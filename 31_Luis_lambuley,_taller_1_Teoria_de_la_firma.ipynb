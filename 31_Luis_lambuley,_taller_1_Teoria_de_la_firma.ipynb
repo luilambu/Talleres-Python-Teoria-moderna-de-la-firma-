{
  "nbformat": 4,
  "nbformat_minor": 0,
  "metadata": {
    "colab": {
      "provenance": [],
      "mount_file_id": "1uzhQ5HaLbMA2cGxmBp3vjve9v8DYmRST",
      "authorship_tag": "ABX9TyNAy+kkAyuI4iUUr/bHMoMF",
      "include_colab_link": true
    },
    "kernelspec": {
      "name": "python3",
      "display_name": "Python 3"
    }
  },
  "cells": [
    {
      "cell_type": "markdown",
      "metadata": {
        "id": "view-in-github",
        "colab_type": "text"
      },
      "source": [
        "<a href=\"https://colab.research.google.com/github/luilambu/Talleres-Python-Teoria-moderna-de-la-firma-/blob/main/31_Luis_lambuley%2C_taller_1_Teoria_de_la_firma.ipynb\" target=\"_parent\"><img src=\"https://colab.research.google.com/assets/colab-badge.svg\" alt=\"Open In Colab\"/></a>"
      ]
    },
    {
      "cell_type": "markdown",
      "source": [
        "### **Ejercicio 1, Calculo del Indice HHI n productores**"
      ],
      "metadata": {
        "id": "VYEYJoo0vY9C"
      }
    },
    {
      "cell_type": "code",
      "metadata": {
        "id": "cVPfdXE4Nf2i",
        "outputId": "a77b6a8d-5374-4621-acdd-cb94e006e8cb",
        "colab": {
          "base_uri": "https://localhost:8080/"
        }
      },
      "source": [
        "producciones=[]\n",
        "produccion=0.0\n",
        "hhi=0.0\n",
        "leer = input(\"Ingrese la produccion de las empresas, separado por(_): \")\n",
        "producciones= leer.split(\"_\")\n",
        "for i in range (len(producciones)):\n",
        "  produccion=produccion+float(producciones[i])\n",
        "for i in range(len(producciones)):\n",
        "  porcen=(float(producciones[i])*100)/produccion\n",
        "  hhidei=porcen*porcen\n",
        "  hhi=hhi+hhidei\n",
        "if hhi==10000:\n",
        "  print(hhi,\"Es un monopolio\")\n",
        "elif hhi>2500:\n",
        "  print(hhi,\"Altamente concentrado\")\n",
        "elif hhi>1500:\n",
        "  print(hhi,\"Moderadamente concentrado\")\n",
        "else:\n",
        "  print(hhi,\"No concentrado\")"
      ],
      "execution_count": null,
      "outputs": [
        {
          "output_type": "stream",
          "text": [
            "Ingrese la produccion de las empresas: 0.6_0.11_0.1_0.06_0.05_0.05_0.02_0.01\n",
            "3912.0 Altamente concentrado\n"
          ],
          "name": "stdout"
        }
      ]
    },
    {
      "cell_type": "markdown",
      "source": [
        "### **Ejercicio 2, calculadora de Descuentos**"
      ],
      "metadata": {
        "id": "rdRChEf3wFuo"
      }
    },
    {
      "cell_type": "code",
      "metadata": {
        "id": "KLNaB7qq4HYN",
        "outputId": "521ef4ee-1643-40aa-9507-adccbd1f5bbb",
        "colab": {
          "base_uri": "https://localhost:8080/"
        }
      },
      "source": [
        "bandera=True\n",
        "gasto=0.0\n",
        "while(bandera==True):\n",
        "  leer = input(\"Ingrese el monto a agregar: \")\n",
        "  entrada=float(leer)\n",
        "  if entrada<0:\n",
        "    print(\"Ingrese un nuevo monto\")\n",
        "  elif entrada>0:\n",
        "    gasto=gasto+entrada\n",
        "  if entrada==0:\n",
        "    bandera=False\n",
        "if gasto>200000:\n",
        "  print(\"Total a pagar: \",gasto*0.8)\n",
        "elif gasto>100000:\n",
        "  print(\"Total a pagar: \",gasto*0.85)\n",
        "elif gasto>50000:\n",
        "  print(\"Total a pagar: \",gasto*0.9)\n",
        "else:\n",
        "  print(\"Total a pagar:\",gasto)\n"
      ],
      "execution_count": null,
      "outputs": [
        {
          "output_type": "stream",
          "text": [
            "Ingrese el monto a agregar: 250000\n",
            "Ingrese el monto a agregar: 500\n",
            "Ingrese el monto a agregar: -65000\n",
            "Ingrese un nuevo monto\n",
            "Ingrese el monto a agregar: 590000\n",
            "Ingrese el monto a agregar: 0\n",
            "Total a pagar:  672400.0\n"
          ],
          "name": "stdout"
        }
      ]
    }
  ]
}