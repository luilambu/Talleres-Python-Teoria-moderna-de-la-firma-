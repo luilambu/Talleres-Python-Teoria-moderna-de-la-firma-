{
  "nbformat": 4,
  "nbformat_minor": 0,
  "metadata": {
    "colab": {
      "provenance": [],
      "authorship_tag": "ABX9TyPC7n1DaGr2G34YDbfGqGDq",
      "include_colab_link": true
    },
    "kernelspec": {
      "name": "python3",
      "display_name": "Python 3"
    }
  },
  "cells": [
    {
      "cell_type": "markdown",
      "metadata": {
        "id": "view-in-github",
        "colab_type": "text"
      },
      "source": [
        "<a href=\"https://colab.research.google.com/github/luilambu/Talleres-Python-Teoria-moderna-de-la-firma-/blob/main/31_Luis_Lambuley%2C_taller_2_Teoria_de_la_firma.ipynb\" target=\"_parent\"><img src=\"https://colab.research.google.com/assets/colab-badge.svg\" alt=\"Open In Colab\"/></a>"
      ]
    },
    {
      "cell_type": "markdown",
      "metadata": {
        "id": "ph0DbP_c5nUR"
      },
      "source": [
        "## **Ejercicio 1, Soluciones en duopolio y oligopolio**"
      ]
    },
    {
      "cell_type": "code",
      "metadata": {
        "id": "Dfun-m6c5ZEb",
        "outputId": "73c96a6c-ce1e-499a-f8df-31a6ad56a8cb",
        "colab": {
          "base_uri": "https://localhost:8080/"
        }
      },
      "source": [
        "operacion=int(input(\"            1 --> Duopolio de Cournot\\n            2 --> Duopolio en cartel (colusión)\\n            3 --> Duopolio de Stackelberg\\n            4 --> Duopolio de Bertrand con bienes homogéneos\\n            5 --> Duopolio de Bertrand con bienes diferenciados\\n            6 --> Oligopolio de Cournot\\nOperación:\"))\n",
        "if operacion==1:\n",
        "  print(\"Solucion Duopolio Cournot\")\n",
        "  var_a=input(\"Ingrese el precio maximo: \")\n",
        "  var_c=input(\"Ingrese el costo marginal: \")\n",
        "  qi=(float(var_a)-float(var_c))/3\n",
        "  qj=qi\n",
        "  precio=float(var_a)-(2*qi)\n",
        "  benefi=(precio-float(var_c))*(qi+qi)\n",
        "  print(\"Precio del Producto: \",precio)\n",
        "  print(\"Cantidad de la empresa 1 \",qi)\n",
        "  print(\"Cantidad de la empresa 2 \",qj)\n",
        "  print(\"Beneficio de la empresa 1 \",benefi/2 )\n",
        "  print(\"Beneficio de la empresa 2 \",benefi/2 )\n",
        "\n",
        "elif operacion==2:\n",
        "  print(\"Solucion Duopolio en cartel\")\n",
        "  var_a=float(input(\"Ingrese el precio maximo: \"))\n",
        "  var_c=float(input(\"Ingrese el costo marginal: \"))\n",
        "  qi=(var_a-var_c)/2\n",
        "  precio=var_a-qi\n",
        "  benefi=(precio-var_c)*qi\n",
        "  print(\"Precio del Producto: \",precio)\n",
        "  print(\"Cantidad de la empresa 1 \",qi/2)\n",
        "  print(\"Cantidad de la empresa 2 \",qi/2)\n",
        "  print(\"Beneficio de la empresa 1 \",benefi/2 )\n",
        "  print(\"Beneficio de la empresa 2 \",benefi/2 )\n",
        "\n",
        "elif operacion==3:\n",
        "  print(\"Solucion Stackelberg con empresa 1 lider\")\n",
        "  var_a=float(input(\"Ingrese el precio maximo: \"))\n",
        "  var_c=float(input(\"Ingrese el costo marginal: \"))\n",
        "  qi=(var_a-var_c)/2\n",
        "  qj=(var_a-var_c)/4\n",
        "  precio=var_a-(qi+qj)\n",
        "  benefi1=(precio-var_c)*qi\n",
        "  benefi2=(precio-var_c)*qj\n",
        "  print(\"Precio del Producto: \",precio)\n",
        "  print(\"Cantidad de la empresa 1 \",qi)\n",
        "  print(\"Cantidad de la empresa 2 \",qj)\n",
        "  print(\"Beneficio de la empresa 1 \",benefi1 )\n",
        "  print(\"Beneficio de la empresa 2 \",benefi2 )\n",
        "elif operacion==4:\n",
        "  print(\"Solucion Bertrand con bienes Homogeneos\")\n",
        "  Pe1=float(input(\"Ingrese el precio de la empresa 1: \"))\n",
        "  Pe2=float(input(\"Ingrese el precio de la empresa 2: \"))\n",
        "  var_c=float(input(\"Ingrese el costo marginal: \"))\n",
        "  if Pe1<Pe2:\n",
        "    qi=\"Q(p1)\"\n",
        "    qj=0\n",
        "    print(\"Cantidad de la empresa 1:\",qi)\n",
        "    print(\"Cantidad de la empresa 2:\",qj)\n",
        "    print(f\"Beneficio de la empresa 1: {Pe1-var_c}*{qi}\" )\n",
        "    print(f\"Beneficio de la empresa 2: 0 \")\n",
        "  elif Pe1>Pe2:\n",
        "    qi=0\n",
        "    qj=\"Q(p2)\"\n",
        "    print(\"Cantidad de la empresa 1: \",qi)\n",
        "    print(\"Cantidad de la empresa 2: \",qj)\n",
        "    print(\"Beneficio de la empresa 1: 0\" )\n",
        "    print(f\"Beneficio de la empresa 2: {Pe2-var_c}*{qj}\")\n",
        "  elif Pe1==Pe2:\n",
        "    qi=\"Q(p)/2\"\n",
        "    qj=\"Q(p)/2\"\n",
        "    print(\"Cantidad de la empresa 1: \",qi)\n",
        "    print(\"Cantidad de la empresa 2: \",qj)\n",
        "    print(f\"Beneficio de la empresa 1: {Pe1-var_c}*{qi}\")\n",
        "    print(f\"Beneficio de la empresa 2: {Pe2-var_c}*{qj}\")\n",
        "elif operacion==5:\n",
        "  print(\"Solucion Bertrand bienes Diferenciados\")\n",
        "  var_a=float(input(\"Ingrese el precio maximo: \"))\n",
        "  tasa=float(input(\"Ingrese tasa de Sustitución: \"))\n",
        "  var_c=float(input(\"Ingrese el costo marginal: \"))\n",
        "#desarrollo bienes diferenciados\n",
        "  precio1=(var_a+var_c)/(2-tasa)\n",
        "  precio2=(var_a+var_c)/(2-tasa)\n",
        "  qi=var_a-precio1+(tasa*precio2)\n",
        "  qj=var_a-precio2+(tasa*precio1)\n",
        "  benefi1=(precio1-var_c)*qi\n",
        "  benefi2=(precio2-var_c)*qj\n",
        "  print(\"Precio que debe fijar empresa 1: \",precio1)\n",
        "  print(\"Precio que debe fijar empresa 2: \",precio2)\n",
        "  print(\"Cantidad de la empresa 1 \",qi)\n",
        "  print(\"Cantidad de la empresa 2 \",qj)\n",
        "  print(\"Beneficio de la empresa 1 \",benefi1 )\n",
        "  print(\"Beneficio de la empresa 2 \",benefi2 )\n",
        "elif operacion==6:\n",
        "  print(\"Solucion Oligopolio Cournot\")\n",
        "  var_a=float(input(\"Ingrese el precio maximo: \"))\n",
        "  num=float(input(\"Ingrese el numero de empresas: \"))\n",
        "  var_c=float(input(\"Ingrese el costo marginal: \"))\n",
        "  cantidadi=(var_a-var_c)/(num+1)\n",
        "  precioi=var_a-(cantidadi*num)\n",
        "  benefi=((var_a-var_c)/num+1)*((var_a-var_c)/num+1)\n",
        "  produccion=cantidadi*num\n",
        "  print(\"Precio que debe fijar empresa i: \",precioi)\n",
        "  print(\"Producción agregada: \",produccion)\n",
        "  print(\"Beneficio de la empresa i \",benefi )\n",
        "else:\n",
        "  print(\"Respuesta NO válida, por favor intente nuevamente.\")"
      ],
      "execution_count": null,
      "outputs": [
        {
          "output_type": "stream",
          "text": [
            "            1 --> Duopolio de Cournot\n",
            "            2 --> Duopolio en cartel (colusión)\n",
            "            3 --> Duopolio de Stackelberg\n",
            "            4 --> Duopolio de Bertrand con bienes homogéneos\n",
            "            5 --> Duopolio de Bertrand con bienes diferenciados\n",
            "            6 --> Oligopolio de Cournot\n",
            "Operación:3\n",
            "Solucion Stackelberg con empresa 1 lider\n",
            "Ingrese el precio maximo: 30\n",
            "Ingrese el costo marginal: 7\n",
            "Precio del Producto:  12.75\n",
            "Cantidad de la empresa 1  11.5\n",
            "Cantidad de la empresa 2  5.75\n",
            "Beneficio de la empresa 1  66.125\n",
            "Beneficio de la empresa 2  33.0625\n"
          ],
          "name": "stdout"
        }
      ]
    },
    {
      "cell_type": "markdown",
      "metadata": {
        "id": "yrfUEhZL5atr"
      },
      "source": [
        "### **Ejercicio 2, Gestión de información de alumnos**"
      ]
    },
    {
      "cell_type": "code",
      "metadata": {
        "id": "EECogSdR5JLC",
        "outputId": "a84cb7ba-5018-4ee2-f4f7-895fa9abe563",
        "colab": {
          "base_uri": "https://localhost:8080/"
        }
      },
      "source": [
        "bandera=True\n",
        "while bandera==True:\n",
        "  print(\"Ingrese fecha de la forma 'día/DD/MM' o\\n'salir' para cerrar   \")\n",
        "  entrada=str (input())\n",
        "  if entrada==\"salir\":\n",
        "    break\n",
        "  dia,dd,mes= (x for x in entrada.split(\"/\"))\n",
        "  dias=dia.lower()\n",
        "  diass=(\"lunes\",\"martes\",\"miercoles\",\"jueves\",\"viernes\")\n",
        "\n",
        "  if dias not in diass:\n",
        "    print(\"error\")\n",
        "    bandera=False\n",
        "    break\n",
        "  elif int(dd)>31:\n",
        "    print(\"error\")\n",
        "    bandera=False\n",
        "    break\n",
        "  elif int(mes)>12:\n",
        "    print(\"error\")\n",
        "    bandera=False\n",
        "    break\n",
        " # bandera2=True\n",
        "  if dias==\"jueves\":\n",
        "    asistencia=input(\"Ingrese el porcentaje de asisitencia a clase: \")\n",
        "    if asistencia>50:\n",
        "      print(\"Asistió la mayoría\")\n",
        "\n",
        "    elif asistencia<50:\n",
        "      print(\"No asistió la mayoría\")\n",
        "  if dias==\"viernes\":\n",
        "    if dd==\"1\" and mes==\"1\" or dd==\"1\" and mes==\"7\":\n",
        "      print(\"Comienzo del nuevo ciclo\")\n",
        "      cantidad=int(input(\"Ingrese cantidad de alumnos del nuevo ciclo: \"))\n",
        "      arancel=float(input(\"Ingrese arancel por alumno: \"))\n",
        "      print(f\"El ingreso total es ${cantidad*arancel }\")\n",
        "\n",
        "  if dias==\"lunes\"or dias==\"martes\"or dias==\"miercoles\":\n",
        "    print(\"Hubo examenes? y/n\")\n",
        "    examen=input()\n",
        "    if examen==\"y\":\n",
        "      aprob=input(\"Ingrese estudiantes aprobados: \")\n",
        "      desaprob=input(\"Ingrese estudiantes desaprobados: \")\n",
        "      suma=int (aprob)+ int(desaprob)\n",
        "      porcen=(100/suma)*int(aprob)\n",
        "      print(f\"El procentaje de aprobados es {porcen}%\")\n",
        "      bandera2=False\n",
        "    elif examen==\"n\":\n",
        "      bandera2=False"
      ],
      "execution_count": null,
      "outputs": [
        {
          "output_type": "stream",
          "text": [
            "Ingrese fecha de la forma 'día/DD/MM' o\n",
            "'salir' para cerrar   \n",
            "salir\n"
          ],
          "name": "stdout"
        }
      ]
    }
  ]
}